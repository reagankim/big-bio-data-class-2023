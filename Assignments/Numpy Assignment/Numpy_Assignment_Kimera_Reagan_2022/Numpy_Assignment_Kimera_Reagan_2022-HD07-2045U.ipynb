{
  "cells": [
    {
      "cell_type": "markdown",
      "metadata": {
        "id": "aTz0cvx7Iex3"
      },
      "source": [
        "##### Numpy Assignment\n",
        "Student Name: Kimera Reagan\n",
        "\n",
        "Reg No: 2022/HD07/2045U\n",
        "\n",
        "Instructions:\n",
        "- Please complete the questions below.\n",
        "- Please comment your code indicating how you approached the problem\n",
        "What is NumPy, and what are some of its key features?\n",
        "\n",
        "Numpy is a Python library that provides a multidimensional array object, various derived objects such as masked arrays and matrices, and an assortment of routines for fast operations on arrays, including mathematical, logical, shape manipulation, sorting, selecting, discrete Fourier transforms, basic linear algebra, basic statistical operations, random simulation and much more.\n",
        "\n",
        "some of its key features:\n",
        "\n",
        "Multidimensional array: NumPy's main feature is the ndarray, an efficient multidimensional array that can hold homogeneous data (i.e., all elements must be of the same data type). These arrays can have any number of dimensions and are the basis for most scientific computing tasks in Python.\n",
        "\n",
        "Broadcasting: NumPy allows for broadcasting, which means that operations can be performed on arrays with different shapes and sizes. Broadcasting can save time and memory by avoiding the need for explicit looping over the array.\n",
        "\n",
        "Vectorization: NumPy provides a way to apply mathematical operations to entire arrays, rather than looping over each element. This makes it much faster and more efficient to perform numerical calculations.\n",
        "\n",
        "Support for linear algebra: NumPy provides functions for linear algebra operations, such as matrix multiplication, inversion, and solving linear systems of equations.\n"
      ]
    },
    {
      "cell_type": "code",
      "execution_count": null,
      "metadata": {
        "id": "OMqoIR7oJD0i"
      },
      "outputs": [],
      "source": [
        "#How do you create a NumPy array using Python's built-in range() function?\n",
        "\n",
        "# We first import numpy as np\n",
        "import numpy as np\n",
        "\n",
        "# create a Python list using range()\n",
        "naap = list(range(12))\n",
        "\n",
        "# convert the list to a NumPy array\n",
        "my_numpy_array = np.array(naap)\n",
        "\n",
        "# print the array\n",
        "print(my_numpy_array)"
      ]
    },
    {
      "cell_type": "markdown",
      "metadata": {
        "id": "DRVy8tPoJHQr"
      },
      "source": [
        "What is the difference between a scalar value and a vector in NumPy?\n",
        "\n",
        "A vector is an array with one dimension, consisting of a collection of scalar values and is often used to represent quantities that have both a magnitude and a direction while a scalar value is a single numerical value, such as an integer or a floating-point number and that represents a magnitude but has no direction"
      ]
    },
    {
      "cell_type": "code",
      "execution_count": null,
      "metadata": {
        "id": "lHa-pHerJKd0"
      },
      "outputs": [],
      "source": [
        "#How do you calculate the mean of a NumPy array using the mean() function?\n",
        "\n",
        "# We first import numpy as np\n",
        "\n",
        "import numpy as np\n",
        "\n",
        "# create a NumPy array\n",
        "my_numpy_array = np.array([1, 2, 3, 4, 5])\n",
        "\n",
        "# calculate the mean using mean()\n",
        "myMean = np.mean(my_numpy_array)\n",
        "\n",
        "# print the mean\n",
        "print(myMean)"
      ]
    },
    {
      "cell_type": "markdown",
      "metadata": {
        "id": "EqpLGTh8JON9"
      },
      "source": [
        "What is broadcasting in NumPy, and how can it be useful?\n",
        "\n",
        "Broadcasting in NumPy is the ability of the library to perform operations on arrays with different shapes and sizes. Broadcasting can save time and memory by avoiding the need for explicit looping over the array."
      ]
    },
    {
      "cell_type": "code",
      "execution_count": null,
      "metadata": {
        "id": "h0cD5yNcJQkm"
      },
      "outputs": [],
      "source": [
        "#How do you create a 2D array in NumPy using Python's built-in list of lists?\n",
        "\n",
        "# we first import numpy as np\n",
        "\n",
        "import numpy as np\n",
        "\n",
        "\n",
        "# creating a list of lists\n",
        "my_list = [[20, 30, 40], [1, 5, 7], [50, 60, 92]]\n",
        "\n",
        "# creating a 2D array using np.array()\n",
        "my_array = np.array(my_list)\n",
        "\n",
        "my_array"
      ]
    },
    {
      "cell_type": "code",
      "execution_count": null,
      "metadata": {
        "id": "bbLfBXwCJVwX"
      },
      "outputs": [],
      "source": [
        "#How can you slice a NumPy array to extract a subarray?\n",
        "\n",
        "# To slice a NumPy array and extract a subarray, you can use the slicing notation arr[start:stop:step], where \"start\" is the index of the first element of the subarray, \"stop\" is the index of the last element of the subarray (exclusive), and \"step\" is the spacing between the elements.\n",
        "\n",
        "# Example include:\n",
        "\n",
        "# we first import numpy as np\n",
        "\n",
        "import numpy as np\n",
        "\n",
        "# Creating an array\n",
        "\n",
        "my_numpy_arry = np.array([1, 2, 3, 4, 5, 6, 7, 8, 9, 10])\n",
        "\n",
        "#slicing that array\n",
        "\n",
        "slicedArray = np.array[2:3]\n",
        "\n",
        "# print sliced array\n",
        "\n",
        "print(slicedArray)\n",
        "\n",
        "\n",
        "\n"
      ]
    },
    {
      "cell_type": "markdown",
      "metadata": {
        "id": "c1jTMq5AJbS2"
      },
      "source": [
        "#What are some of the available functions for performing element-wise operations on NumPy arrays?\n",
        "\n",
        "There are a variety of element-wise functions that can be applied to  arrays in numpy and these include. \n",
        "\n",
        "numpy.sin(),numpy.cos(), numpy.logical_and(), numpy.logical_or(), numpy.arcsin(),  numpy.median(), numpy.prod(), etc"
      ]
    },
    {
      "cell_type": "code",
      "execution_count": null,
      "metadata": {
        "id": "dPgmCPERJe_2"
      },
      "outputs": [],
      "source": [
        "#How do you reshape a NumPy array to have a different shape?\n",
        "\n",
        "# We use the reshape() function. The reshape() method returns a new array with the same data but a different shape. The new shape must have the same number of elements as the original shape, otherwise, a ValueError will be raised.\n",
        "\n",
        "#For example:\n",
        "\n",
        "# We import numpy as np\n",
        "\n",
        "import numpy as np\n",
        "\n",
        "# creating a 1D array with 12 elements\n",
        "\n",
        "my_arr = np.arange(12)\n",
        "\n",
        " # reshaping the array to a 3x4 2D array\n",
        "\n",
        "my_new_arr = my_arr.reshape((3, 4))\n",
        "\n",
        "# Printing the reshaped array\n",
        "\n",
        "print(my_new_arr)\n",
        "\n",
        "\n",
        "\n"
      ]
    },
    {
      "cell_type": "code",
      "execution_count": null,
      "metadata": {
        "id": "oon90JvgJhvv"
      },
      "outputs": [],
      "source": [
        "#How do you perform matrix multiplication on two NumPy arrays using the dot() function?\n",
        "\n",
        "\n",
        "#The dot() function can be used to perform matrix multiplication on two-dimensional arrays as well as on higher-dimensional arrays \n",
        "\n",
        "# We import numpy as np\n",
        "\n",
        "import numpy as np\n",
        "\n",
        "# Create two 2x3 arrays\n",
        "\n",
        "arr_1 = np.array([[17, 22, 77], [29, 5, 16]])\n",
        "arr_2 = np.array([[10, 56], [38, 10], [12, 12]])\n",
        "\n",
        "# Using the dot() function to multiply\n",
        "\n",
        "my_arr = np.dot(arr_1, arr_2)\n",
        "\n",
        "#print the result\n",
        "\n",
        "print(my_arr)\n"
      ]
    },
    {
      "cell_type": "code",
      "execution_count": null,
      "metadata": {
        "id": "JtbVS5P0Jodg"
      },
      "outputs": [],
      "source": [
        "#How can you use the where() function to apply a condition to a NumPy array?\n",
        "\n",
        "# The where() function in NumPy allows you to apply a condition to an array and return a new array with values that meet the condition replaced by a specified value, and values that do not meet the condition replaced by another specified value.\n",
        "\n",
        "# The syntax of this function is numpy.where(condition, x, y)\n",
        "\n",
        "# We import numpy as np\n",
        "\n",
        "import numpy as np\n",
        "\n",
        "# create an example array\n",
        "arr = np.array([1, 2, 3, 4, 5])\n",
        "\n",
        "# apply a condition and replace values\n",
        "new_arr = np.where(arr > 3, 10, arr)\n",
        "\n",
        "# print the new array\n",
        "print(new_arr)\n"
      ]
    },
    {
      "attachments": {},
      "cell_type": "markdown",
      "metadata": {
        "id": "UkJ-LQlhJrMA"
      },
      "source": [
        "What is the difference between the flatten() and ravel() functions in NumPy?\n",
        "\n",
        "flatten() function returns a copy of the array, collapsed into a one-dimensional array. The returned array is always a copy of the original array, even if the original array was already one-dimensional. This means that any changes made to the returned array will not affect the original array While ravel() function also returns a one-dimensional array, but it may return a view of the original array instead of a copy. If the array is already one-dimensional, then ravel() will return a view of the original array. This means that changes made to the returned array may affect the original array as well\n",
        "\n",
        "\n",
        "\n",
        "\n",
        "\n"
      ]
    },
    {
      "cell_type": "code",
      "execution_count": null,
      "metadata": {
        "id": "5cf9aukfJsaB"
      },
      "outputs": [],
      "source": [
        "#How do you use NumPy's advanced indexing capabilities to select specific elements from an array?\n",
        "\n",
        "# Indexing with arrays of indices: \n",
        "# Use an array of integers to select specific elements from an array.\n",
        "\n",
        "# We import numpy as np\n",
        "import numpy as np\n",
        "\n",
        "# create an array\n",
        "arr = np.array([[1, 2], [3, 4], [5, 6]])\n",
        "\n",
        "# Selecting specific elements\n",
        "print(arr[[0, 1, 2], [0, 1, 0]]) # Output: [1 4 5]\n",
        "\n",
        "# Selecting a subset of rows\n",
        "print(arr[[0, 2]]) # Output: [[1 2]\n",
        "                   #         [5 6]]\n",
        "        \n",
        "\n"
      ]
    },
    {
      "cell_type": "code",
      "execution_count": null,
      "metadata": {
        "id": "b2NpOnu2JxMp"
      },
      "outputs": [],
      "source": [
        "#How can you use NumPy's broadcasting rules to perform operations on arrays with different shapes?\n",
        "\n",
        "# we import the numpy package\n",
        "import numpy as np\n",
        "\n",
        "\n",
        "\n",
        "arr_1 = np.array([1, 2, 3])\n",
        "arr_2 = np.array([[4], [5], [6]])\n",
        "\n",
        "res = arr_1 + arr_2\n",
        "\n",
        "print(res) #Output [[5 6 7]\n",
        "                #  [6 7 8]\n",
        "                #  [7 8 9]]"
      ]
    },
    {
      "cell_type": "code",
      "execution_count": null,
      "metadata": {
        "id": "vS-gg1ZrJ8s6"
      },
      "outputs": [],
      "source": [
        "#How do you perform element-wise division of two NumPy arrays while ignoring divide-by-zero errors?\n",
        "\n",
        "#To perform element-wise division of two NumPy arrays while ignoring divide-by-zero errors, you can use the numpy.errstate \n",
        "\n",
        "# Example:\n",
        "\n",
        "import numpy as np\n",
        "\n",
        "arr_1 = np.array([12, 21, 32])\n",
        "arr_2 = np.array([0, 32, 0])\n",
        "\n",
        "with np.errstate(divide='ignore', invalid='ignore'):\n",
        "    res = np.true_divide(arr_1, arr_2)\n",
        "\n",
        "print(res)\n",
        "\n"
      ]
    },
    {
      "cell_type": "markdown",
      "metadata": {
        "id": "XgeHrSj7KzTj"
      },
      "source": [
        "### Project: Array Statistics Calculator\n",
        "**Description:**\n",
        "\n",
        "In this project, you will create a program that allows a user to enter a list of numbers, and then calculates and displays various statistics about those numbers using NumPy.\n",
        "\n",
        "**Requirements:**\n",
        "\n",
        "- The program should prompt the user to enter a list of numbers separated by commas.\n",
        "- The program should use NumPy to convert the input into a 1D NumPy array.\n",
        "- The program should calculate and display the following statistics:\n",
        "- The mean of the numbers\n",
        "- The median of the numbers\n",
        "- The standard deviation of the numbers\n",
        "- The maximum and minimum values of the numbers\n",
        "- The program should use appropriate NumPy functions to calculate the statistics.\n",
        "- The program should display the statistics with appropriate labels.\n",
        "\n",
        "### Sample Output\n",
        "```\n",
        "Enter a list of numbers separated by commas: 2, 5, 7, 3, 1, 9\n",
        "Statistics for the input array:\n",
        "Mean: 4.5\n",
        "Median: 4.0\n",
        "Standard Deviation: 2.9154759474226504\n",
        "Maximum: 9\n",
        "Minimum: 1\n",
        "```"
      ]
    },
    {
      "cell_type": "code",
      "execution_count": null,
      "metadata": {
        "id": "xQU4w-RxLgWZ"
      },
      "outputs": [],
      "source": [
        "# Prompt the user to enter a list of numbers separated by commas\n",
        "prompt = input(\"Enter a list of numbers separated by commas: \")\n",
        "\n",
        "# Convert the input into a 1D NumPy array\n",
        "prompt  = np.array([float(x) for x in prompt.split(',')])\n",
        "\n",
        "# Calculate the statistics using NumPy functions\n",
        "Mean = np.mean(prompt)\n",
        "Median = np.median(prompt)\n",
        "Std_dev = np.std(prompt)\n",
        "Max_val = np.max(prompt)\n",
        "Min_val = np.min(prompt)\n",
        "\n",
        "# Display the statistics with appropriate labels\n",
        "print(\"Statistics:\")\n",
        "print(\"Mean: \", Mean)\n",
        "print(\"Median: \", Median)\n",
        "print(\"Standard Deviation: \", Std_dev)\n",
        "print(\"Maximum Value: \", Max_val)\n",
        "print(\"Minimum Value: \", Min_val)"
      ]
    },
    {
      "cell_type": "code",
      "execution_count": null,
      "metadata": {},
      "outputs": [],
      "source": []
    }
  ],
  "metadata": {
    "colab": {
      "provenance": []
    },
    "kernelspec": {
      "display_name": "Python 3",
      "name": "python3"
    },
    "language_info": {
      "name": "python"
    }
  },
  "nbformat": 4,
  "nbformat_minor": 0
}
