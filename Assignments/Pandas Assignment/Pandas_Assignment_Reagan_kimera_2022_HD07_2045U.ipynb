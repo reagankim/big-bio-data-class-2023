{
 "cells": [
  {
   "cell_type": "markdown",
   "metadata": {
    "id": "QjhxZHa4XZrg"
   },
   "source": [
    "Pandas Assignment\n",
    "Student Name:\n",
    "\n",
    "Reg No:\n",
    "\n",
    "Instructions:\n",
    "Please complete the questions below.\n",
    "Please comment your code indicating how you approached the problem"
   ]
  },
  {
   "cell_type": "markdown",
   "metadata": {
    "id": "dzFp6JEGY-U2"
   },
   "source": [
    "## Introduction to Pandas"
   ]
  },
  {
   "cell_type": "code",
   "execution_count": null,
   "metadata": {
    "id": "BTAGt12UXCSg"
   },
   "outputs": [
    {
     "name": "stdout",
     "output_type": "stream",
     "text": [
      "Average = 15.0\n"
     ]
    }
   ],
   "source": [
    "#Create a Pandas Series object containing the following data: 5, 10, 15, 20, 25. What is the average of the values in the Series?\n",
    "\n",
    "# Import pandas as pd\n",
    "\n",
    "import pandas as pd\n",
    "\n",
    "# Create the Series object\n",
    "\n",
    "data_set = [5, 10, 15, 20, 25]\n",
    "sw = pd.Series(data_set)\n",
    "\n",
    "# Calculate the average of the Series values\n",
    "average = sw.mean()\n",
    "\n",
    "print(\"Average =\",average )\n",
    "\n",
    "\n"
   ]
  },
  {
   "cell_type": "code",
   "execution_count": 23,
   "metadata": {
    "id": "r_2GlShpZCY0"
   },
   "outputs": [
    {
     "name": "stdout",
     "output_type": "stream",
     "text": [
      "Total salary = 180000\n"
     ]
    }
   ],
   "source": [
    "#Create a Pandas DataFrame object containing the following data: {'Name': ['Alice', 'Bob', 'Charlie'], 'Age': [25, 30, 35], 'Salary': [50000, 60000, 70000]}. What is the total salary of all employees?\n",
    "\n",
    "# Import pandas as pd\n",
    "\n",
    "import pandas as pd\n",
    "\n",
    "# Create the DataFrame object\n",
    "data_set = {'Name': ['Alice', 'Bob', 'Charlie'], 'Age': [25, 30, 35], 'Salary': [50000, 60000, 70000]}\n",
    "dfx = pd.DataFrame(data_set)\n",
    "\n",
    "# Calculate the total salary of all employees\n",
    "total_salary = dfx['Salary'].sum()\n",
    "\n",
    "\n",
    "print(\"Total salary =\", total_salary)"
   ]
  },
  {
   "cell_type": "markdown",
   "metadata": {
    "id": "yhIUNmfGZG9l"
   },
   "source": [
    "## DataFrames and Series"
   ]
  },
  {
   "cell_type": "code",
   "execution_count": 78,
   "metadata": {
    "id": "h9-hguvpZKVF"
   },
   "outputs": [
    {
     "name": "stdout",
     "output_type": "stream",
     "text": [
      "Modified Series :\n",
      "0    11\n",
      "1    12\n",
      "2    13\n",
      "3    14\n",
      "4    15\n",
      "dtype: int64\n"
     ]
    }
   ],
   "source": [
    "#Create a Pandas Series object containing the following data: [1, 2, 3, 4, 5]. Add 10 to each value in the Series.\n",
    "\n",
    "\n",
    "# Import pandas as pd\n",
    "\n",
    "import pandas as pd\n",
    "\n",
    "\n",
    "\n",
    "# Create the Series object\n",
    "data = [1, 2, 3, 4, 5]\n",
    "sx = pd.Series(data)\n",
    "\n",
    "# Add 10 to each value in the Series\n",
    "sk = sx + 10\n",
    "\n",
    "print(\"Modified Series :\")\n",
    "print(sk)"
   ]
  },
  {
   "cell_type": "code",
   "execution_count": 79,
   "metadata": {
    "id": "fwEQ6vAJZPwt"
   },
   "outputs": [
    {
     "name": "stdout",
     "output_type": "stream",
     "text": [
      "      Name  Age  Salary\n",
      "2  Charlie   35   70000\n"
     ]
    }
   ],
   "source": [
    "#Create a Pandas DataFrame object containing the following data: {'Name': ['Alice', 'Bob', 'Charlie'], 'Age': [25, 30, 35], 'Salary': [50000, 60000, 70000]}. Select only the rows where the Age is greater than 30.\n",
    "\n",
    "# Import panda as pd\n",
    "\n",
    "import pandas as pd\n",
    "\n",
    "# Create the DataFrame object\n",
    "data = {'Name': ['Alice', 'Bob', 'Charlie'], 'Age': [25, 30, 35], 'Salary': [50000, 60000, 70000]}\n",
    "dfx = pd.DataFrame(data)\n",
    "\n",
    "# Select only the rows where the Age is greater than 30\n",
    "Age_greater_than_30 = dfx[dfx['Age'] > 30]\n",
    "\n",
    "\n",
    "print(Age_greater_than_30)"
   ]
  },
  {
   "cell_type": "markdown",
   "metadata": {
    "id": "nDrPzc3tZVCc"
   },
   "source": [
    "## Loading Data into Pandas"
   ]
  },
  {
   "cell_type": "code",
   "execution_count": 16,
   "metadata": {
    "id": "sdNPXVUWZZ_i"
   },
   "outputs": [
    {
     "name": "stdout",
     "output_type": "stream",
     "text": [
      "Index(['Pregnancies', 'Glucose', 'BloodPressure', 'SkinThickness', 'Insulin',\n",
      "       'BMI', 'DiabetesPedigreeFunction', 'Age', 'Outcome'],\n",
      "      dtype='object')\n"
     ]
    }
   ],
   "source": [
    "#Load a CSV file named 'diabetes.csv' into a Pandas DataFrame object. What are the names of the columns in the DataFrame?\n",
    "#Please check your data folder for this dataset\n",
    "\n",
    "# Import pandas as pd\n",
    "\n",
    "import pandas as pd\n",
    "\n",
    "# Load the CSV file into a DataFrame objectd\n",
    "dfx = pd.read_csv(\"~/Desktop/big-bio-data-class-2023/Data/Diabetes/diabetes.csv\")\n",
    "\n",
    "# # Display the names of the columns in the DataFrame\n",
    "\n",
    "print(dfx.columns)"
   ]
  },
  {
   "cell_type": "code",
   "execution_count": 18,
   "metadata": {
    "id": "Xc9EYfEqZiG_"
   },
   "outputs": [
    {
     "name": "stdout",
     "output_type": "stream",
     "text": [
      "(768, 9)\n"
     ]
    }
   ],
   "source": [
    "#Display the dimensions of the data\n",
    "\n",
    "print(dfx.shape)"
   ]
  },
  {
   "cell_type": "code",
   "execution_count": 19,
   "metadata": {
    "id": "4a5FAPN_ZlRJ"
   },
   "outputs": [
    {
     "name": "stdout",
     "output_type": "stream",
     "text": [
      "   Pregnancies  Glucose  BloodPressure  SkinThickness  Insulin   BMI  \\\n",
      "0            6      148             72             35        0  33.6   \n",
      "1            1       85             66             29        0  26.6   \n",
      "2            8      183             64              0        0  23.3   \n",
      "3            1       89             66             23       94  28.1   \n",
      "4            0      137             40             35      168  43.1   \n",
      "5            5      116             74              0        0  25.6   \n",
      "6            3       78             50             32       88  31.0   \n",
      "7           10      115              0              0        0  35.3   \n",
      "8            2      197             70             45      543  30.5   \n",
      "9            8      125             96              0        0   0.0   \n",
      "\n",
      "   DiabetesPedigreeFunction  Age  Outcome  \n",
      "0                     0.627   50        1  \n",
      "1                     0.351   31        0  \n",
      "2                     0.672   32        1  \n",
      "3                     0.167   21        0  \n",
      "4                     2.288   33        1  \n",
      "5                     0.201   30        0  \n",
      "6                     0.248   26        1  \n",
      "7                     0.134   29        0  \n",
      "8                     0.158   53        1  \n",
      "9                     0.232   54        1  \n"
     ]
    }
   ],
   "source": [
    "#Display the top 10 rows\n",
    "print(dfx.head(10))"
   ]
  },
  {
   "cell_type": "code",
   "execution_count": 20,
   "metadata": {
    "id": "kXh8GQx6ZosC"
   },
   "outputs": [
    {
     "name": "stdout",
     "output_type": "stream",
     "text": [
      "     Pregnancies  Glucose  BloodPressure  SkinThickness  Insulin   BMI  \\\n",
      "758            1      106             76              0        0  37.5   \n",
      "759            6      190             92              0        0  35.5   \n",
      "760            2       88             58             26       16  28.4   \n",
      "761            9      170             74             31        0  44.0   \n",
      "762            9       89             62              0        0  22.5   \n",
      "763           10      101             76             48      180  32.9   \n",
      "764            2      122             70             27        0  36.8   \n",
      "765            5      121             72             23      112  26.2   \n",
      "766            1      126             60              0        0  30.1   \n",
      "767            1       93             70             31        0  30.4   \n",
      "\n",
      "     DiabetesPedigreeFunction  Age  Outcome  \n",
      "758                     0.197   26        0  \n",
      "759                     0.278   66        1  \n",
      "760                     0.766   22        0  \n",
      "761                     0.403   43        1  \n",
      "762                     0.142   33        0  \n",
      "763                     0.171   63        0  \n",
      "764                     0.340   27        0  \n",
      "765                     0.245   30        0  \n",
      "766                     0.349   47        1  \n",
      "767                     0.315   23        0  \n"
     ]
    }
   ],
   "source": [
    "#Display the last 10 rows\n",
    "\n",
    "print(dfx.tail(10))"
   ]
  },
  {
   "cell_type": "markdown",
   "metadata": {
    "id": "CDKEEmvmZwiq"
   },
   "source": [
    "## Data Cleaning"
   ]
  },
  {
   "cell_type": "code",
   "execution_count": 28,
   "metadata": {
    "id": "PFzUFZrTZzxV"
   },
   "outputs": [
    {
     "name": "stdout",
     "output_type": "stream",
     "text": [
      "    Name   Age   Salary\n",
      "0  Alice  25.0  50000.0\n",
      "3   Dave  35.0  80000.0\n",
      "4    Eve  40.0  90000.0\n"
     ]
    }
   ],
   "source": [
    "#Create a Pandas DataFrame object containing the following data: {'Name': ['Alice', 'Bob', 'Charlie', 'Dave', 'Eve'], 'Age': [25, 30, None, 35, 40], 'Salary': [50000, None, 70000, 80000, 90000]}. Remove all rows with missing values\n",
    "\n",
    "# Import pandas as pd\n",
    "\n",
    "import pandas as pd\n",
    "\n",
    "# Create the DataFrame\n",
    "data = {'Name': ['Alice', 'Bob', 'Charlie', 'Dave', 'Eve'], 'Age': [25, 30, None, 35, 40], 'Salary': [50000, None, 70000, 80000, 90000]}\n",
    "dfd = pd.DataFrame(data)\n",
    "\n",
    "# Remove rows with missing values\n",
    "print(dfd.dropna())\n",
    "\n",
    "\n"
   ]
  },
  {
   "cell_type": "code",
   "execution_count": 38,
   "metadata": {
    "id": "PRof8tNzZ34b"
   },
   "outputs": [
    {
     "name": "stdout",
     "output_type": "stream",
     "text": [
      "      Name   Age   Salary\n",
      "0    Alice  25.0  50000.0\n",
      "1      Bob  30.0  75000.0\n",
      "2  Charlie  32.5  70000.0\n",
      "3     Dave  35.0  80000.0\n",
      "4      Eve  40.0  90000.0\n"
     ]
    }
   ],
   "source": [
    "#Create a Pandas DataFrame object containing the following data: {'Name': ['Alice', 'Bob', 'Charlie', 'Dave', 'Eve'], 'Age': [25, 30, None, 35, 40], 'Salary': [50000, None, 70000, 80000, 90000]}. Fill all missing values with the average Age and the median Salary.\n",
    "\n",
    "# Import pandas as pd\n",
    "\n",
    "import pandas as pd\n",
    "\n",
    "\n",
    "# Create the DataFrame object\n",
    "dfm = pd.DataFrame({'Name': ['Alice', 'Bob', 'Charlie', 'Dave', 'Eve'],'Age': [25, 30, None, 35, 40],'Salary': [50000, None, 70000, 80000, 90000]})\n",
    "\n",
    "# Fill the missing Age values with the average Age\n",
    "average_age = dfm['Age'].mean()\n",
    "dfm['Age'].fillna(value=average_age, inplace=True)\n",
    "\n",
    "# Fill the missing Salary values with the median Salary\n",
    "median_salary = dfm['Salary'].median()\n",
    "dfm['Salary'].fillna(value=median_salary, inplace=True)\n",
    "\n",
    "# Print the DataFrame object\n",
    "print(dfm)"
   ]
  },
  {
   "cell_type": "markdown",
   "metadata": {
    "id": "Dm9ghsopZ8Fb"
   },
   "source": [
    "## Data Exploration"
   ]
  },
  {
   "cell_type": "code",
   "execution_count": 42,
   "metadata": {
    "id": "y3MDNAY6Z_xz"
   },
   "outputs": [
    {
     "name": "stdout",
     "output_type": "stream",
     "text": [
      "Maximum Age = 35\n",
      "Minimum Salary = 50000\n"
     ]
    }
   ],
   "source": [
    "#Create a Pandas DataFrame object containing the following data: {'Name': ['Alice', 'Bob', 'Charlie'], 'Age': [25, 30, 35], 'Salary': [50000, 60000, 70000]}. What is the maximum Age and minimum Salary in the DataFrame?\n",
    "\n",
    "# Import pandas as pd\n",
    "\n",
    "import pandas as pd\n",
    "\n",
    "# Create the DataFrame object\n",
    "dfm = pd.DataFrame({'Name': ['Alice', 'Bob', 'Charlie'],'Age': [25, 30, 35],'Salary': [50000, 60000, 70000]})\n",
    "\n",
    "# Find the maximum Age and minimum Salary\n",
    "max_age = dfm['Age'].max()\n",
    "min_salary = dfm['Salary'].min()\n",
    "\n",
    "# Print the maximum Age and minimum Salary\n",
    "print(\"Maximum Age =\",max_age)\n",
    "print(\"Minimum Salary =\",min_salary)"
   ]
  },
  {
   "cell_type": "code",
   "execution_count": 46,
   "metadata": {
    "id": "vDlB5kgpaDwE"
   },
   "outputs": [
    {
     "name": "stdout",
     "output_type": "stream",
     "text": [
      "Correlation Coefficient= 1.0\n"
     ]
    }
   ],
   "source": [
    "#Create a Pandas DataFrame object containing the following data: {'Name': ['Alice', 'Bob', 'Charlie'], 'Age': [25, 30, 35], 'Salary': [50000, 60000, 70000]}. Calculate the correlation coefficient between Age and Salary.\n",
    "\n",
    "# Import pandas as pd\n",
    "\n",
    "import pandas as pd\n",
    "\n",
    "# Create the DataFrame object\n",
    "dfm = pd.DataFrame({'Name': ['Alice', 'Bob', 'Charlie'],'Age': [25, 30, 35],'Salary': [50000, 60000, 70000]})\n",
    "\n",
    "# Calculate the correlation coefficient between Age and Salary\n",
    "corr = df['Age'].corr(df['Salary'])\n",
    "\n",
    "# Print the correlation coefficient\n",
    "print(\"Correlation Coefficient=\",corr)"
   ]
  },
  {
   "cell_type": "markdown",
   "metadata": {
    "id": "l8bPg2etaGNU"
   },
   "source": [
    "## Grouping and Aggregating Data"
   ]
  },
  {
   "cell_type": "code",
   "execution_count": 50,
   "metadata": {
    "id": "njbAfs1xaJ4d"
   },
   "outputs": [
    {
     "name": "stdout",
     "output_type": "stream",
     "text": [
      "Age\n",
      "25    50000.0\n",
      "30    60000.0\n",
      "35    70000.0\n",
      "Name: Salary, dtype: float64\n"
     ]
    }
   ],
   "source": [
    "#Create a Pandas DataFrame object containing the following data: {'Name': ['Alice', 'Bob', 'Charlie', 'Dave', 'Eve'], 'Age': [25, 30, 35, 25, 30], 'Salary': [50000, 60000, 70000, 80000, 90000]}. Group the DataFrame by Age and calculate the mean Salary for each group.\n",
    "\n",
    "# Import pandas as pd\n",
    "\n",
    "import pandas as pd\n",
    "\n",
    "# Create the DataFrame object\n",
    "dfm = pd.DataFrame({'Name': ['Alice', 'Bob', 'Charlie', 'Dave', 'Eve'],'Age': [25, 30, 35, 25, 30],'Salary': [50000, 60000, 70000, 80000, 90000]})\n",
    "\n",
    "# Group the DataFrame by Age and calculate the mean Salary for each group\n",
    "grouped_df = df.groupby('Age')\n",
    "mean_salary = grouped_df['Salary'].mean()\n",
    "\n",
    "# Print the grouped DataFrame\n",
    "\n",
    "print(mean_salary)\n"
   ]
  },
  {
   "cell_type": "code",
   "execution_count": null,
   "metadata": {
    "id": "3Ev8WrCQaN0t"
   },
   "outputs": [],
   "source": []
  },
  {
   "cell_type": "markdown",
   "metadata": {
    "id": "uqNLYJGBamsa"
   },
   "source": [
    "## Reshaping Data"
   ]
  },
  {
   "cell_type": "code",
   "execution_count": 64,
   "metadata": {
    "id": "nPyItbc6aoPA"
   },
   "outputs": [
    {
     "name": "stdout",
     "output_type": "stream",
     "text": [
      "Quarter   Q1   Q2\n",
      "Year             \n",
      "2019     100  200\n",
      "2020     300  400\n"
     ]
    }
   ],
   "source": [
    "#Create a Pandas DataFrame object containing the following data: {'Year': [2019, 2019, 2020, 2020], 'Quarter': ['Q1', 'Q2', 'Q1', 'Q2'], 'Sales': [100, 200, 300, 400]}. Pivot the DataFrame so that the rows are indexed by Year, the columns are indexed by Quarter, and the values are the Sales.\n",
    "\n",
    "# Import pandas as pd\n",
    "\n",
    "import pandas as pd\n",
    "\n",
    "# Create the DataFrame\n",
    "data = {'Year': [2019, 2019, 2020, 2020], 'Quarter': ['Q1', 'Q2', 'Q1', 'Q2'], 'Sales': [100, 200, 300, 400]}\n",
    "dfm = pd.DataFrame(data)\n",
    "\n",
    "# Pivot the DataFrame\n",
    "pivoted = df.pivot(index='Year', columns='Quarter', values='Sales')\n",
    "\n",
    "# Print the resulting DataFrame\n",
    "print(pivoted)"
   ]
  },
  {
   "cell_type": "code",
   "execution_count": 69,
   "metadata": {
    "id": "7UWE3_NaawLj"
   },
   "outputs": [
    {
     "name": "stdout",
     "output_type": "stream",
     "text": [
      "      Name Gender         Year  Salary\n",
      "0    Alice      F  Salary 2019   50000\n",
      "1      Bob      M  Salary 2019   60000\n",
      "2  Charlie      M  Salary 2019   70000\n",
      "3    Alice      F  Salary 2020   55000\n",
      "4      Bob      M  Salary 2020   65000\n",
      "5  Charlie      M  Salary 2020   75000\n"
     ]
    }
   ],
   "source": [
    "#Create a Pandas DataFrame object containing the following data: {'Name': ['Alice', 'Bob', 'Charlie'], 'Gender': ['F', 'M', 'M'], 'Salary 2019': [50000, 60000, 70000], 'Salary 2020': [55000, 65000, 75000]}. Melt the DataFrame so that the variable column contains the years and the value column contains the salaries.\n",
    "\n",
    "\n",
    "import pandas as pd\n",
    "\n",
    "# Create the DataFrame object\n",
    "df = pd.DataFrame({'Name': ['Alice', 'Bob', 'Charlie'],\n",
    "                   'Gender': ['F', 'M', 'M'],\n",
    "                   'Salary 2019': [50000, 60000, 70000],\n",
    "                   'Salary 2020': [55000, 65000, 75000]})\n",
    "\n",
    "# Melt the DataFrame\n",
    "df_melted = pd.melt(df, id_vars=['Name', 'Gender'], var_name='Year', value_name='Salary')\n",
    "\n",
    "# Print the melted DataFrame\n",
    "print(df_melted)"
   ]
  },
  {
   "cell_type": "markdown",
   "metadata": {
    "id": "Q7_gHKi5a0bN"
   },
   "source": [
    "## Merging and Joining Data"
   ]
  },
  {
   "cell_type": "code",
   "execution_count": 74,
   "metadata": {
    "id": "SPZOaqzIa7Js"
   },
   "outputs": [
    {
     "name": "stdout",
     "output_type": "stream",
     "text": [
      "  key  value_x  value_y\n",
      "0   B        2        5\n",
      "1   D        4        6\n"
     ]
    }
   ],
   "source": [
    "#Create two Pandas DataFrame objects, df1 and df2, containing the following data: df1 = {'key': ['A', 'B', 'C', 'D'], 'value': [1, 2, 3, 4]} and df2 = {'key': ['B', 'D', 'E', 'F'], 'value': [5, 6, 7, 8]}. Merge the two DataFrames using an inner join on the 'key' column.\n",
    "\n",
    "# Import pandas as pd\n",
    "\n",
    "import pandas as pd\n",
    "\n",
    "# Create the first DataFrame object\n",
    "df_1 = pd.DataFrame({'key': ['A', 'B', 'C', 'D'], 'value': [1, 2, 3, 4]})\n",
    "\n",
    "# Create the second DataFrame object\n",
    "df_2 = pd.DataFrame({'key': ['B', 'D', 'E', 'F'], 'value': [5, 6, 7, 8]})\n",
    "\n",
    "# Merge the two DataFrames using an inner join on the 'key' column\n",
    "df_merged = pd.merge(df_1, df_2, on='key', how='inner')\n",
    "\n",
    "# Print the merged DataFrame\n",
    "print(df_merged)"
   ]
  },
  {
   "cell_type": "code",
   "execution_count": 73,
   "metadata": {
    "id": "Wvey28Jsa_Ws"
   },
   "outputs": [
    {
     "name": "stdout",
     "output_type": "stream",
     "text": [
      "  key  value1  value2\n",
      "0   A       1     NaN\n",
      "1   B       2     5.0\n",
      "2   C       3     NaN\n",
      "3   D       4     6.0\n"
     ]
    }
   ],
   "source": [
    "#Create two Pandas DataFrame objects, df1 and df2, containing the following data: df1 = {'key': ['A', 'B', 'C', 'D'], 'value1': [1, 2, 3, 4]} and df2 = {'key': ['B', 'D', 'E', 'F'], 'value2': [5, 6, 7, 8]}. Perform a left join on df1 and df2 using the 'key' column as the join key.\n",
    "\n",
    "# Import pandas as pd\n",
    "\n",
    "import pandas as pd\n",
    "\n",
    "df1 = pd.DataFrame({'key': ['A', 'B', 'C', 'D'], 'value1': [1, 2, 3, 4]})\n",
    "df2 = pd.DataFrame({'key': ['B', 'D', 'E', 'F'], 'value2': [5, 6, 7, 8]})\n",
    "\n",
    "merged_df = pd.merge(df1, df2, on='key', how='left')\n",
    "print(merged_df)\n",
    "\n"
   ]
  },
  {
   "cell_type": "markdown",
   "metadata": {
    "id": "pYg6Y5SRb1ML"
   },
   "source": [
    "## Mini Pandas Project\n",
    "\n",
    "- Load the CSV file into a Pandas DataFrame object.\n",
    "- Clean the data by removing any rows with missing values and any duplicate rows.\n",
    "- Use NumPy to calculate the mean and standard deviation of the \"births\" column.\n",
    "- Use Pandas to group the data by year and month, and calculate the mean number of births for each group.\n",
    "- Use Matplotlib to create a line plot of the mean number of births per month over time.\n",
    "- Use Pandas to group the data by day of the week, and calculate the mean number of births for each day.\n",
    "- Use Matplotlib to create a bar chart of the mean number of births per day of the week.\n",
    "- Use Pandas to group the data by year, and calculate the total number of births for each year.\n",
    "- Use Matplotlib to create a bar chart of the total number of births per year.\n",
    "\n",
    ">> NOTE: Below is boiler code for you to get started with.Please fill in the missing codes."
   ]
  },
  {
   "cell_type": "code",
   "execution_count": 27,
   "metadata": {
    "id": "QWvvcvj4eCyT"
   },
   "outputs": [
    {
     "name": "stdout",
     "output_type": "stream",
     "text": [
      "Mean = 4678.631512577155\n",
      "Standard deviation = 1003.0714179988807\n"
     ]
    },
    {
     "name": "stderr",
     "output_type": "stream",
     "text": [
      "/var/folders/kb/9l1wj3m56678z420p8rmng9w0000gn/T/ipykernel_65088/1955976704.py:38: SettingWithCopyWarning: \n",
      "A value is trying to be set on a copy of a slice from a DataFrame.\n",
      "Try using .loc[row_indexer,col_indexer] = value instead\n",
      "\n",
      "See the caveats in the documentation: https://pandas.pydata.org/pandas-docs/stable/user_guide/indexing.html#returning-a-view-versus-a-copy\n",
      "  dfx['date'] = pd.to_datetime(dfx['year']*10000 + dfx['month']*100 + 1, format='%Y%m%d')\n"
     ]
    },
    {
     "data": {
      "image/png": "[encoded data removed]",
      "text/plain": [
       "<Figure size 640x480 with 1 Axes>"
      ]
     },
     "metadata": {},
     "output_type": "display_data"
    },
    {
     "name": "stderr",
     "output_type": "stream",
     "text": [
      "/var/folders/kb/9l1wj3m56678z420p8rmng9w0000gn/T/ipykernel_65088/1955976704.py:51: SettingWithCopyWarning: \n",
      "A value is trying to be set on a copy of a slice from a DataFrame.\n",
      "Try using .loc[row_indexer,col_indexer] = value instead\n",
      "\n",
      "See the caveats in the documentation: https://pandas.pydata.org/pandas-docs/stable/user_guide/indexing.html#returning-a-view-versus-a-copy\n",
      "  dfx['day_of_week'] = dfx['date'].dt.day_name()\n"
     ]
    },
    {
     "data": {
      "image/png": "[encoded data removed]",
      "text/plain": [
       "<Figure size 640x480 with 1 Axes>"
      ]
     },
     "metadata": {},
     "output_type": "display_data"
    },
    {
     "data": {
      "image/png": "[encoded data removed]",
      "text/plain": [
       "<Figure size 640x480 with 1 Axes>"
      ]
     },
     "metadata": {},
     "output_type": "display_data"
    }
   ],
   "source": [
    "import pandas as pd\n",
    "import numpy as np\n",
    "import matplotlib.pyplot as plt\n",
    "\n",
    "# Load the CSV file into a Pandas DataFrame object\n",
    "df = pd.read_csv(\"https://raw.githubusercontent.com/jakevdp/data-CDCbirths/master/births.csv\")\n",
    "\n",
    "# Clean the data by removing any rows with missing values and any duplicate rows\n",
    "\n",
    "df_copy = df.copy()\n",
    "df_clean=df_copy.drop_duplicates()\n",
    "df_cleaned=df_clean.dropna()\n",
    "\n",
    "# Use NumPy to calculate the mean and standard deviation of the \"births\" column\n",
    "\n",
    "mean = np.mean(df_cleaned['births'])\n",
    "std_dev = np.std(df_cleaned['births'])\n",
    "\n",
    "print(\"Mean =\", mean)\n",
    "print(\"Standard deviation =\", std_dev)\n",
    "\n",
    "\n",
    "\n",
    "\n",
    "# Use Pandas to group the data by year and month, and calculate the mean number of births for each group\n",
    "\n",
    "df_clean=df.drop_duplicates()\n",
    "df_cleaned=df_clean.dropna()\n",
    "\n",
    "\n",
    "# filter rows where day is greater than 31\n",
    "mask = df_cleaned['day'] > 31\n",
    "dfx = df_cleaned[~mask]\n",
    "\n",
    "# print(dfx['year'])\n",
    "\n",
    "\n",
    "dfx['date'] = pd.to_datetime(dfx['year']*10000 + dfx['month']*100 + 1, format='%Y%m%d')\n",
    "#df['date'] = pd.to_datetime(df['year']*10000 + df['month']*100 + df['day'], format='%Y%m%d')\n",
    "grouped_by_month = dfx.groupby([dfk['date'].dt.year, dfx['date'].dt.month])['births'].mean()\n",
    "grouped_by_month\n",
    "\n",
    "# # Use Matplotlib to create a line plot of the mean number of births per month over time\n",
    "grouped_by_month.plot()\n",
    "plt.xlabel('Year-Month')\n",
    "plt.ylabel('Mean Number of Births')\n",
    "plt.title('Mean Number of Births per Month')\n",
    "plt.show()\n",
    "\n",
    "# # Use Pandas to group the data by day of the week, and calculate the mean number of births for each day\n",
    "dfx['day_of_week'] = dfx['date'].dt.day_name()\n",
    "grouped_by_day_of_week = dfx.groupby(dfx['date'].dt.day_name())['births'].mean()\n",
    "grouped_by_day_of_week \n",
    "\n",
    "# # Use Matplotlib to create a bar chart of the mean number of births per day of the week\n",
    "plt.bar(grouped_by_day_of_week.index, grouped_by_day_of_week.values)\n",
    "plt.xlabel('Day of the Week')\n",
    "plt.ylabel('Mean Number of Births')\n",
    "plt.title('Mean Number of Births per Day of the Week')\n",
    "plt.show()\n",
    "\n",
    "# # Use Pandas to group the data by year, and calculate the total number of births for each year\n",
    "grouped_by_year = dfx.groupby(dfx['date'].dt.year)['births'].sum()\n",
    "\n",
    "\n",
    "# # Use Matplotlib to create a bar chart of the total number of births per year\n",
    "plt.bar(grouped_by_year.index, grouped_by_year.values)\n",
    "plt.xlabel('Year')\n",
    "plt.ylabel('Total Number of Births')\n",
    "plt.title('Total Number of Births per Year')\n",
    "plt.show()"
   ]
  }
 ],
 "metadata": {
  "colab": {
   "provenance": []
  },
  "kernelspec": {
   "display_name": "Python 3 (ipykernel)",
   "language": "python",
   "name": "python3"
  },
  "language_info": {
   "codemirror_mode": {
    "name": "ipython",
    "version": 3
   },
   "file_extension": ".py",
   "mimetype": "text/x-python",
   "name": "python",
   "nbconvert_exporter": "python",
   "pygments_lexer": "ipython3",
   "version": "3.9.13"
  }
 },
 "nbformat": 4,
 "nbformat_minor": 1
}
